{
 "cells": [
  {
   "cell_type": "code",
   "execution_count": 1,
   "id": "43b4a2d3",
   "metadata": {},
   "outputs": [],
   "source": [
    "import pandas as pd\n",
    "df = pd.read_csv('education_search_world.csv')"
   ]
  },
  {
   "cell_type": "code",
   "execution_count": 2,
   "id": "ee9b10d4",
   "metadata": {},
   "outputs": [],
   "source": [
    "# İsimlendirilmemiş sütun veri setindeki satır numarasını belirtir.\n",
    "# date sütunu verinin ait olduğu tarih bilgisini içerir.\n",
    "# hits sütunu belirli bir anahtar kelimenin o tarihteki arama hacmini (popülerlik skorunu) belirtir.\n",
    "# keyword sütunu analiz edilen anahtar kelimeyi ifade eder.\n",
    "# geo sütunu verinin ait olduğu coğrafi bölgeyi belirtir (bu projede sadece \"world\" yani dünya geneli olan datalar kullanılmıştır).\n",
    "# time sütunu verinin kapsadığı zaman aralığını belirtir.\n",
    "# gprop sütunu, verinin geldiği Google hizmetini belirtir.\n",
    "# (bu projede \"web\", \"news\", \"youtube\" içerisinden sadece web aramaları incelenmiştir, datada diğer gprop değerleri bulunmamaktadır)\n",
    "# category sütunu, anahtar kelimenin ait olduğu kategori kodunu gösterir."
   ]
  },
  {
   "cell_type": "code",
   "execution_count": 3,
   "id": "60a45370",
   "metadata": {},
   "outputs": [
    {
     "name": "stdout",
     "output_type": "stream",
     "text": [
      "   Unnamed: 0        date hits          keyword    geo                   time  \\\n",
      "0           1  2017-12-01   29  Online Learning  world  2017-12-01 2024-04-30   \n",
      "1           2  2018-01-01   33  Online Learning  world  2017-12-01 2024-04-30   \n",
      "2           3  2018-02-01   34  Online Learning  world  2017-12-01 2024-04-30   \n",
      "3           4  2018-03-01   34  Online Learning  world  2017-12-01 2024-04-30   \n",
      "4           5  2018-04-01   31  Online Learning  world  2017-12-01 2024-04-30   \n",
      "\n",
      "  gprop  category  \n",
      "0   web         0  \n",
      "1   web         0  \n",
      "2   web         0  \n",
      "3   web         0  \n",
      "4   web         0  \n"
     ]
    }
   ],
   "source": [
    "print(df.head())"
   ]
  },
  {
   "cell_type": "code",
   "execution_count": 4,
   "id": "686704af",
   "metadata": {},
   "outputs": [
    {
     "name": "stdout",
     "output_type": "stream",
     "text": [
      "     Unnamed: 0        date hits            keyword    geo  \\\n",
      "380         381  2023-12-01   <1  online proctoring  world   \n",
      "381         382  2024-01-01   <1  online proctoring  world   \n",
      "382         383  2024-02-01   <1  online proctoring  world   \n",
      "383         384  2024-03-01   <1  online proctoring  world   \n",
      "384         385  2024-04-01   <1  online proctoring  world   \n",
      "\n",
      "                      time gprop  category  \n",
      "380  2017-12-01 2024-04-30   web         0  \n",
      "381  2017-12-01 2024-04-30   web         0  \n",
      "382  2017-12-01 2024-04-30   web         0  \n",
      "383  2017-12-01 2024-04-30   web         0  \n",
      "384  2017-12-01 2024-04-30   web         0  \n"
     ]
    }
   ],
   "source": [
    "print(df.tail())"
   ]
  },
  {
   "cell_type": "code",
   "execution_count": 5,
   "id": "fcf0818b",
   "metadata": {},
   "outputs": [
    {
     "name": "stdout",
     "output_type": "stream",
     "text": [
      "<class 'pandas.core.frame.DataFrame'>\n",
      "RangeIndex: 385 entries, 0 to 384\n",
      "Data columns (total 8 columns):\n",
      " #   Column      Non-Null Count  Dtype \n",
      "---  ------      --------------  ----- \n",
      " 0   Unnamed: 0  385 non-null    int64 \n",
      " 1   date        385 non-null    object\n",
      " 2   hits        385 non-null    object\n",
      " 3   keyword     385 non-null    object\n",
      " 4   geo         385 non-null    object\n",
      " 5   time        385 non-null    object\n",
      " 6   gprop       385 non-null    object\n",
      " 7   category    385 non-null    int64 \n",
      "dtypes: int64(2), object(6)\n",
      "memory usage: 24.2+ KB\n"
     ]
    }
   ],
   "source": [
    "# Veri setimizde NaN değer bulunmamaktadır.\n",
    "# 2 sütun Unnamed ve category tam sayı türünde veri içermektedir.\n",
    "# Diğer 6 sütun ise object türünde veri içermektedir. Hem string hem integer içerebilen sütunlardır.\n",
    "df.info()"
   ]
  },
  {
   "cell_type": "code",
   "execution_count": 6,
   "id": "a02f9b0e",
   "metadata": {},
   "outputs": [
    {
     "data": {
      "text/plain": [
       "np.False_"
      ]
     },
     "execution_count": 6,
     "metadata": {},
     "output_type": "execute_result"
    }
   ],
   "source": [
    "# Hiç null değer bulunmamaktadır.\n",
    "df.isnull().values.any()"
   ]
  },
  {
   "cell_type": "code",
   "execution_count": 7,
   "id": "5cc029d2",
   "metadata": {},
   "outputs": [
    {
     "data": {
      "text/plain": [
       "Unnamed: 0     int64\n",
       "date          object\n",
       "hits          object\n",
       "keyword       object\n",
       "geo           object\n",
       "time          object\n",
       "gprop         object\n",
       "category       int64\n",
       "dtype: object"
      ]
     },
     "execution_count": 7,
     "metadata": {},
     "output_type": "execute_result"
    }
   ],
   "source": [
    "df.dtypes"
   ]
  },
  {
   "cell_type": "code",
   "execution_count": 8,
   "id": "563f4b06",
   "metadata": {},
   "outputs": [
    {
     "name": "stdout",
     "output_type": "stream",
     "text": [
      "category\n"
     ]
    }
   ],
   "source": [
    "# pd.Categorical yöntemi ile parametre olarak verilen sütundaki verileri category veri tipine dönüştürülerek \n",
    "# tekrar eden metin verilerini daha verimli depolamak ve işlemleri hızlandırmak amaçlanmaktadır. \n",
    "df[\"gprop\"] = pd.Categorical(df.gprop)\n",
    "\n",
    "print(df[\"gprop\"].dtype)"
   ]
  },
  {
   "cell_type": "code",
   "execution_count": 9,
   "id": "d3131e85",
   "metadata": {},
   "outputs": [
    {
     "data": {
      "text/html": [
       "<div>\n",
       "<style scoped>\n",
       "    .dataframe tbody tr th:only-of-type {\n",
       "        vertical-align: middle;\n",
       "    }\n",
       "\n",
       "    .dataframe tbody tr th {\n",
       "        vertical-align: top;\n",
       "    }\n",
       "\n",
       "    .dataframe thead th {\n",
       "        text-align: right;\n",
       "    }\n",
       "</style>\n",
       "<table border=\"1\" class=\"dataframe\">\n",
       "  <thead>\n",
       "    <tr style=\"text-align: right;\">\n",
       "      <th></th>\n",
       "      <th>Unnamed: 0</th>\n",
       "      <th>date</th>\n",
       "      <th>hits</th>\n",
       "      <th>keyword</th>\n",
       "      <th>geo</th>\n",
       "      <th>time</th>\n",
       "      <th>gprop</th>\n",
       "      <th>category</th>\n",
       "    </tr>\n",
       "  </thead>\n",
       "  <tbody>\n",
       "    <tr>\n",
       "      <th>0</th>\n",
       "      <td>1</td>\n",
       "      <td>2017-12-01</td>\n",
       "      <td>29</td>\n",
       "      <td>Online Learning</td>\n",
       "      <td>world</td>\n",
       "      <td>2017-12-01 2024-04-30</td>\n",
       "      <td>web</td>\n",
       "      <td>0</td>\n",
       "    </tr>\n",
       "    <tr>\n",
       "      <th>1</th>\n",
       "      <td>2</td>\n",
       "      <td>2018-01-01</td>\n",
       "      <td>33</td>\n",
       "      <td>Online Learning</td>\n",
       "      <td>world</td>\n",
       "      <td>2017-12-01 2024-04-30</td>\n",
       "      <td>web</td>\n",
       "      <td>0</td>\n",
       "    </tr>\n",
       "    <tr>\n",
       "      <th>2</th>\n",
       "      <td>3</td>\n",
       "      <td>2018-02-01</td>\n",
       "      <td>34</td>\n",
       "      <td>Online Learning</td>\n",
       "      <td>world</td>\n",
       "      <td>2017-12-01 2024-04-30</td>\n",
       "      <td>web</td>\n",
       "      <td>0</td>\n",
       "    </tr>\n",
       "    <tr>\n",
       "      <th>3</th>\n",
       "      <td>4</td>\n",
       "      <td>2018-03-01</td>\n",
       "      <td>34</td>\n",
       "      <td>Online Learning</td>\n",
       "      <td>world</td>\n",
       "      <td>2017-12-01 2024-04-30</td>\n",
       "      <td>web</td>\n",
       "      <td>0</td>\n",
       "    </tr>\n",
       "    <tr>\n",
       "      <th>4</th>\n",
       "      <td>5</td>\n",
       "      <td>2018-04-01</td>\n",
       "      <td>31</td>\n",
       "      <td>Online Learning</td>\n",
       "      <td>world</td>\n",
       "      <td>2017-12-01 2024-04-30</td>\n",
       "      <td>web</td>\n",
       "      <td>0</td>\n",
       "    </tr>\n",
       "  </tbody>\n",
       "</table>\n",
       "</div>"
      ],
      "text/plain": [
       "   Unnamed: 0        date hits          keyword    geo                   time  \\\n",
       "0           1  2017-12-01   29  Online Learning  world  2017-12-01 2024-04-30   \n",
       "1           2  2018-01-01   33  Online Learning  world  2017-12-01 2024-04-30   \n",
       "2           3  2018-02-01   34  Online Learning  world  2017-12-01 2024-04-30   \n",
       "3           4  2018-03-01   34  Online Learning  world  2017-12-01 2024-04-30   \n",
       "4           5  2018-04-01   31  Online Learning  world  2017-12-01 2024-04-30   \n",
       "\n",
       "  gprop  category  \n",
       "0   web         0  \n",
       "1   web         0  \n",
       "2   web         0  \n",
       "3   web         0  \n",
       "4   web         0  "
      ]
     },
     "execution_count": 9,
     "metadata": {},
     "output_type": "execute_result"
    }
   ],
   "source": [
    "df.head()"
   ]
  },
  {
   "cell_type": "markdown",
   "id": "c0b96654",
   "metadata": {},
   "source": [
    "### Integer Türündeki Sütunlar İçin Hesaplamalar"
   ]
  },
  {
   "cell_type": "code",
   "execution_count": 10,
   "id": "674e7009",
   "metadata": {},
   "outputs": [
    {
     "data": {
      "text/html": [
       "<div>\n",
       "<style scoped>\n",
       "    .dataframe tbody tr th:only-of-type {\n",
       "        vertical-align: middle;\n",
       "    }\n",
       "\n",
       "    .dataframe tbody tr th {\n",
       "        vertical-align: top;\n",
       "    }\n",
       "\n",
       "    .dataframe thead th {\n",
       "        text-align: right;\n",
       "    }\n",
       "</style>\n",
       "<table border=\"1\" class=\"dataframe\">\n",
       "  <thead>\n",
       "    <tr style=\"text-align: right;\">\n",
       "      <th></th>\n",
       "      <th>Unnamed: 0</th>\n",
       "      <th>category</th>\n",
       "    </tr>\n",
       "  </thead>\n",
       "  <tbody>\n",
       "    <tr>\n",
       "      <th>count</th>\n",
       "      <td>385.000000</td>\n",
       "      <td>385.0</td>\n",
       "    </tr>\n",
       "    <tr>\n",
       "      <th>mean</th>\n",
       "      <td>193.000000</td>\n",
       "      <td>0.0</td>\n",
       "    </tr>\n",
       "    <tr>\n",
       "      <th>std</th>\n",
       "      <td>111.284171</td>\n",
       "      <td>0.0</td>\n",
       "    </tr>\n",
       "    <tr>\n",
       "      <th>min</th>\n",
       "      <td>1.000000</td>\n",
       "      <td>0.0</td>\n",
       "    </tr>\n",
       "    <tr>\n",
       "      <th>25%</th>\n",
       "      <td>97.000000</td>\n",
       "      <td>0.0</td>\n",
       "    </tr>\n",
       "    <tr>\n",
       "      <th>50%</th>\n",
       "      <td>193.000000</td>\n",
       "      <td>0.0</td>\n",
       "    </tr>\n",
       "    <tr>\n",
       "      <th>75%</th>\n",
       "      <td>289.000000</td>\n",
       "      <td>0.0</td>\n",
       "    </tr>\n",
       "    <tr>\n",
       "      <th>max</th>\n",
       "      <td>385.000000</td>\n",
       "      <td>0.0</td>\n",
       "    </tr>\n",
       "  </tbody>\n",
       "</table>\n",
       "</div>"
      ],
      "text/plain": [
       "       Unnamed: 0  category\n",
       "count  385.000000     385.0\n",
       "mean   193.000000       0.0\n",
       "std    111.284171       0.0\n",
       "min      1.000000       0.0\n",
       "25%     97.000000       0.0\n",
       "50%    193.000000       0.0\n",
       "75%    289.000000       0.0\n",
       "max    385.000000       0.0"
      ]
     },
     "execution_count": 10,
     "metadata": {},
     "output_type": "execute_result"
    }
   ],
   "source": [
    "df.shape\n",
    "# Sadece integer olan değişkenler için bu değerleri hesaplayabildik\n",
    "df.describe()"
   ]
  },
  {
   "cell_type": "markdown",
   "id": "8d66be35",
   "metadata": {},
   "source": [
    "### Hesaplanan Değerleri HTML Olarak Dışa Aktarma"
   ]
  },
  {
   "cell_type": "code",
   "execution_count": 11,
   "id": "b1d6a3b6",
   "metadata": {},
   "outputs": [],
   "source": [
    "# Hesaplanan değerleri dış html dosyasına aktarılarak araştırma kolaylığı sağlanır.\n",
    "df.describe().to_html(\"describe_output.html\", encoding=\"utf-8\")"
   ]
  },
  {
   "cell_type": "markdown",
   "id": "de7cb0a8",
   "metadata": {},
   "source": [
    "### Object Türündeki Sütunlar İçin Hesaplamalar"
   ]
  },
  {
   "cell_type": "code",
   "execution_count": 12,
   "id": "ecfc2864",
   "metadata": {},
   "outputs": [
    {
     "data": {
      "text/html": [
       "<div>\n",
       "<style scoped>\n",
       "    .dataframe tbody tr th:only-of-type {\n",
       "        vertical-align: middle;\n",
       "    }\n",
       "\n",
       "    .dataframe tbody tr th {\n",
       "        vertical-align: top;\n",
       "    }\n",
       "\n",
       "    .dataframe thead th {\n",
       "        text-align: right;\n",
       "    }\n",
       "</style>\n",
       "<table border=\"1\" class=\"dataframe\">\n",
       "  <thead>\n",
       "    <tr style=\"text-align: right;\">\n",
       "      <th></th>\n",
       "      <th>count</th>\n",
       "      <th>unique</th>\n",
       "      <th>top</th>\n",
       "      <th>freq</th>\n",
       "      <th>mean</th>\n",
       "      <th>std</th>\n",
       "      <th>min</th>\n",
       "      <th>25%</th>\n",
       "      <th>50%</th>\n",
       "      <th>75%</th>\n",
       "      <th>max</th>\n",
       "    </tr>\n",
       "  </thead>\n",
       "  <tbody>\n",
       "    <tr>\n",
       "      <th>Unnamed: 0</th>\n",
       "      <td>385.0</td>\n",
       "      <td>NaN</td>\n",
       "      <td>NaN</td>\n",
       "      <td>NaN</td>\n",
       "      <td>193.0</td>\n",
       "      <td>111.284171</td>\n",
       "      <td>1.0</td>\n",
       "      <td>97.0</td>\n",
       "      <td>193.0</td>\n",
       "      <td>289.0</td>\n",
       "      <td>385.0</td>\n",
       "    </tr>\n",
       "    <tr>\n",
       "      <th>date</th>\n",
       "      <td>385</td>\n",
       "      <td>77</td>\n",
       "      <td>2017-12-01</td>\n",
       "      <td>5</td>\n",
       "      <td>NaN</td>\n",
       "      <td>NaN</td>\n",
       "      <td>NaN</td>\n",
       "      <td>NaN</td>\n",
       "      <td>NaN</td>\n",
       "      <td>NaN</td>\n",
       "      <td>NaN</td>\n",
       "    </tr>\n",
       "    <tr>\n",
       "      <th>hits</th>\n",
       "      <td>385</td>\n",
       "      <td>59</td>\n",
       "      <td>&lt;1</td>\n",
       "      <td>67</td>\n",
       "      <td>NaN</td>\n",
       "      <td>NaN</td>\n",
       "      <td>NaN</td>\n",
       "      <td>NaN</td>\n",
       "      <td>NaN</td>\n",
       "      <td>NaN</td>\n",
       "      <td>NaN</td>\n",
       "    </tr>\n",
       "    <tr>\n",
       "      <th>keyword</th>\n",
       "      <td>385</td>\n",
       "      <td>5</td>\n",
       "      <td>Online Learning</td>\n",
       "      <td>77</td>\n",
       "      <td>NaN</td>\n",
       "      <td>NaN</td>\n",
       "      <td>NaN</td>\n",
       "      <td>NaN</td>\n",
       "      <td>NaN</td>\n",
       "      <td>NaN</td>\n",
       "      <td>NaN</td>\n",
       "    </tr>\n",
       "    <tr>\n",
       "      <th>geo</th>\n",
       "      <td>385</td>\n",
       "      <td>1</td>\n",
       "      <td>world</td>\n",
       "      <td>385</td>\n",
       "      <td>NaN</td>\n",
       "      <td>NaN</td>\n",
       "      <td>NaN</td>\n",
       "      <td>NaN</td>\n",
       "      <td>NaN</td>\n",
       "      <td>NaN</td>\n",
       "      <td>NaN</td>\n",
       "    </tr>\n",
       "    <tr>\n",
       "      <th>time</th>\n",
       "      <td>385</td>\n",
       "      <td>1</td>\n",
       "      <td>2017-12-01 2024-04-30</td>\n",
       "      <td>385</td>\n",
       "      <td>NaN</td>\n",
       "      <td>NaN</td>\n",
       "      <td>NaN</td>\n",
       "      <td>NaN</td>\n",
       "      <td>NaN</td>\n",
       "      <td>NaN</td>\n",
       "      <td>NaN</td>\n",
       "    </tr>\n",
       "    <tr>\n",
       "      <th>gprop</th>\n",
       "      <td>385</td>\n",
       "      <td>1</td>\n",
       "      <td>web</td>\n",
       "      <td>385</td>\n",
       "      <td>NaN</td>\n",
       "      <td>NaN</td>\n",
       "      <td>NaN</td>\n",
       "      <td>NaN</td>\n",
       "      <td>NaN</td>\n",
       "      <td>NaN</td>\n",
       "      <td>NaN</td>\n",
       "    </tr>\n",
       "    <tr>\n",
       "      <th>category</th>\n",
       "      <td>385.0</td>\n",
       "      <td>NaN</td>\n",
       "      <td>NaN</td>\n",
       "      <td>NaN</td>\n",
       "      <td>0.0</td>\n",
       "      <td>0.0</td>\n",
       "      <td>0.0</td>\n",
       "      <td>0.0</td>\n",
       "      <td>0.0</td>\n",
       "      <td>0.0</td>\n",
       "      <td>0.0</td>\n",
       "    </tr>\n",
       "  </tbody>\n",
       "</table>\n",
       "</div>"
      ],
      "text/plain": [
       "            count unique                    top freq   mean         std  min  \\\n",
       "Unnamed: 0  385.0    NaN                    NaN  NaN  193.0  111.284171  1.0   \n",
       "date          385     77             2017-12-01    5    NaN         NaN  NaN   \n",
       "hits          385     59                     <1   67    NaN         NaN  NaN   \n",
       "keyword       385      5        Online Learning   77    NaN         NaN  NaN   \n",
       "geo           385      1                  world  385    NaN         NaN  NaN   \n",
       "time          385      1  2017-12-01 2024-04-30  385    NaN         NaN  NaN   \n",
       "gprop         385      1                    web  385    NaN         NaN  NaN   \n",
       "category    385.0    NaN                    NaN  NaN    0.0         0.0  0.0   \n",
       "\n",
       "             25%    50%    75%    max  \n",
       "Unnamed: 0  97.0  193.0  289.0  385.0  \n",
       "date         NaN    NaN    NaN    NaN  \n",
       "hits         NaN    NaN    NaN    NaN  \n",
       "keyword      NaN    NaN    NaN    NaN  \n",
       "geo          NaN    NaN    NaN    NaN  \n",
       "time         NaN    NaN    NaN    NaN  \n",
       "gprop        NaN    NaN    NaN    NaN  \n",
       "category     0.0    0.0    0.0    0.0  "
      ]
     },
     "execution_count": 12,
     "metadata": {},
     "output_type": "execute_result"
    }
   ],
   "source": [
    "# object türünde veri içeren sütunlar için değerler describe metoduyla düzgün hesaplanamadı.\n",
    "df.describe(include = \"all\").T"
   ]
  },
  {
   "cell_type": "code",
   "execution_count": 13,
   "id": "3136670f",
   "metadata": {},
   "outputs": [],
   "source": [
    "kat_df = df.select_dtypes(include = [\"object\"])"
   ]
  },
  {
   "cell_type": "code",
   "execution_count": 14,
   "id": "6017670a",
   "metadata": {},
   "outputs": [
    {
     "data": {
      "text/plain": [
       "array(['Online Learning', 'Online teaching', 'Distance learning',\n",
       "       'Distance education', 'online proctoring'], dtype=object)"
      ]
     },
     "execution_count": 14,
     "metadata": {},
     "output_type": "execute_result"
    }
   ],
   "source": [
    "kat_df.keyword.unique()"
   ]
  },
  {
   "cell_type": "code",
   "execution_count": 15,
   "id": "0be57ef8",
   "metadata": {},
   "outputs": [
    {
     "data": {
      "text/plain": [
       "<Axes: ylabel='keyword'>"
      ]
     },
     "execution_count": 15,
     "metadata": {},
     "output_type": "execute_result"
    },
    {
     "data": {
      "image/png": "[encoded data removed]",
      "text/plain": [
       "<Figure size 640x480 with 1 Axes>"
      ]
     },
     "metadata": {},
     "output_type": "display_data"
    }
   ],
   "source": [
    "# Veri seti düzenlenmiş olduğu için eşit sayıda kelime incelenmiştir.\n",
    "df[\"keyword\"].value_counts().plot.barh()"
   ]
  },
  {
   "cell_type": "markdown",
   "id": "7f7be364",
   "metadata": {},
   "source": [
    "### Online Learning Kelimesinin Zamana Göre Aratılma Sıklığı"
   ]
  },
  {
   "cell_type": "code",
   "execution_count": 16,
   "id": "f112c4bf",
   "metadata": {},
   "outputs": [],
   "source": [
    "# hits sütunu sayı olarak işlenir\n",
    "df[\"hits\"] = pd.to_numeric(df[\"hits\"], errors=\"coerce\")"
   ]
  },
  {
   "cell_type": "code",
   "execution_count": 17,
   "id": "dda64fbb",
   "metadata": {},
   "outputs": [],
   "source": [
    "# date sütunu datetime formatına çevrilir\n",
    "df[\"date\"] = pd.to_datetime(df[\"date\"])"
   ]
  },
  {
   "cell_type": "code",
   "execution_count": 18,
   "id": "760ab479",
   "metadata": {},
   "outputs": [],
   "source": [
    "# keyword sütunundan sadece \"online learning\" kelimesi filtrelenir\n",
    "learning_df = df[df[\"keyword\"] == \"Online Learning\"]\n",
    "teaching_df = df[df[\"keyword\"] == \"Online teaching\"]"
   ]
  },
  {
   "cell_type": "code",
   "execution_count": 19,
   "id": "ad2d585a",
   "metadata": {},
   "outputs": [],
   "source": [
    "# Ortak zaman aralığına göre merge işlemi\n",
    "merged_df = pd.merge(\n",
    "    learning_df[[\"date\", \"hits\"]].rename(columns={\"hits\": \"learning_hits\"}),\n",
    "    teaching_df[[\"date\", \"hits\"]].rename(columns={\"hits\": \"teaching_hits\"}),\n",
    "    on=\"date\"\n",
    ")"
   ]
  },
  {
   "cell_type": "code",
   "execution_count": 20,
   "id": "6ba4409e",
   "metadata": {},
   "outputs": [
    {
     "data": {
      "image/png": "[encoded data removed]",
      "text/plain": [
       "<Figure size 1200x600 with 1 Axes>"
      ]
     },
     "metadata": {},
     "output_type": "display_data"
    }
   ],
   "source": [
    "import matplotlib.pyplot as plt\n",
    "\n",
    "plt.figure(figsize=(12, 6))\n",
    "plt.plot(merged_df[\"date\"], merged_df[\"learning_hits\"], label=\"Online Learning\", marker='o')\n",
    "plt.plot(merged_df[\"date\"], merged_df[\"teaching_hits\"], label=\"Online Teaching\", marker='s')\n",
    "plt.title(\"Online Learning vs Online Teaching Hits Over Time\")\n",
    "plt.xlabel(\"Date\")\n",
    "plt.ylabel(\"Hits\")\n",
    "plt.legend()\n",
    "plt.grid(True)\n",
    "plt.tight_layout()\n",
    "plt.show()"
   ]
  },
  {
   "cell_type": "markdown",
   "id": "46a24ad1",
   "metadata": {},
   "source": [
    "COVID-19 salgını sırasında hem online learning hem de online teaching kavramlarına olan ilgi arttığı için bu iki değişken arasında güçlü bir doğrusal ilişki gözlenmiştir. Bu durum kovaryans değerinin yüksek çıkmasına neden olmuştur."
   ]
  },
  {
   "cell_type": "code",
   "execution_count": 21,
   "id": "c2245c38",
   "metadata": {},
   "outputs": [
    {
     "name": "stdout",
     "output_type": "stream",
     "text": [
      "               learning_hits  teaching_hits\n",
      "learning_hits     234.569378      94.436603\n",
      "teaching_hits      94.436603      47.880041\n"
     ]
    }
   ],
   "source": [
    "# Kovaryans hesaplanır\n",
    "covariance = merged_df[[\"learning_hits\", \"teaching_hits\"]].cov()\n",
    "print(covariance)"
   ]
  },
  {
   "cell_type": "markdown",
   "id": "d254e7a4",
   "metadata": {},
   "source": [
    "İki değişken arasındaki kovaryans pozitif ve büyüktür (94.44), bu da pandemi döneminde her iki kavrama olan ilginin birlikte arttığını göstermektedir. Bu ilişkiyi daha yorumlanabilir hale getirmek için korelasyon katsayısı da hesaplanmış ve 0.8911 değeri elde edilmiştir."
   ]
  },
  {
   "cell_type": "code",
   "execution_count": 22,
   "id": "0f7209e9",
   "metadata": {},
   "outputs": [
    {
     "name": "stdout",
     "output_type": "stream",
     "text": [
      "               learning_hits  teaching_hits\n",
      "learning_hits       1.000000       0.891102\n",
      "teaching_hits       0.891102       1.000000\n"
     ]
    }
   ],
   "source": [
    "# Korelasyon hesaplama\n",
    "correlation = merged_df[[\"learning_hits\", \"teaching_hits\"]].corr()\n",
    "print(correlation)"
   ]
  }
 ],
 "metadata": {
  "kernelspec": {
   "display_name": "Python 3",
   "language": "python",
   "name": "python3"
  },
  "language_info": {
   "codemirror_mode": {
    "name": "ipython",
    "version": 3
   },
   "file_extension": ".py",
   "mimetype": "text/x-python",
   "name": "python",
   "nbconvert_exporter": "python",
   "pygments_lexer": "ipython3",
   "version": "3.13.1"
  }
 },
 "nbformat": 4,
 "nbformat_minor": 5
}
